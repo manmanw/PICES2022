	<!doctype html>
<html lang="en">
<head>
    <meta charset="utf-8">
    <meta name="viewport" content="width=device-width, initial-scale=1, shrink-to-fit=no">
    <meta name="description" content="">
    <link rel="icon" href="https://www.uvic.ca/assets/core-4-0/img/favicon-32.png">
    <title>Web Login Service - Stale Request</title>
	<link href="https://www.uvic.ca/assets/core-4-0/css/core.css" rel="stylesheet">
    <link rel="stylesheet" type="text/css" href="/idp/css/uvic.css">
</head>
<body class="uv-info">
    <header id="uv-header">
        <div id="uvicbar_holder"></div>
        <a href="#uv-main" class="sr-only sr-only-focusable">Skip to main content</a>
        <div class="uv-hdr uv-hdr--internal">
            <div class="uv-hdr__container container">
                <div class="uv-hdr__name"><a href="https://www.uvic.ca/tools/index.php">Online tools</a></div>
            </div>
        </div>
    </header>
    <main id="uv-main" class="uv-main uv-main--info">
                <div class="container">
            <div class="row uv-main__row--head">
                <div class="uv-content">
                    <div class="row uv-sect uv-sect--head">
                        <div class="col-12">
                            <h1>Stale Request</h1>
                        </div>
                    </div>
                </div>
            </div>
        </div>
                                <div class="container">
            <div class="row uv-main__row">
                <div class="uv-left"></div>
                <div class="uv-content">
                    <div class="row uv-sect">
                        <div class="col-12">
                            <div class="alert alert-danger">
                                <p><p>You may be seeing this page because you used the Back button while browsing a secure web site or application. Alternatively, you may have mistakenly bookmarked the web login form instead of the actual web site you wanted to bookmark or used a link created by somebody else who made the same mistake.</p> <br/> <p>Left unchecked, this can cause errors on some browsers or result in you returning to the web site you tried to leave, so this page is presented instead.</p></p> 
                                <!--<li>Return to <span class="service_name">$serviceName</span> and try again in a few minutes</li>
                                <li>URL: https://idp.uvic.ca/idp/profile/SAML2/Redirect/SSO </li>-->
                            </div>
                        </div>
                    </div>
                    <div class="row uv-sect">
                        <div class="col-12">
                            <h3>Contact the University Systems Computer Help Desk</h3>
                            <p><strong>Email:</strong> <a href="mailto:helpdesk@uvic.ca">helpdesk@uvic.ca</a></p>
                            <p><strong>Telephone:</strong> <a href="tel:250-727-7687">250-721-7687</a> (Toll Free: <a href="tel:1-844-727-7687">1-844-721-7687</a>)</p>
                            <ul>
                                <li> Monday to Friday, 8:00 am to 10:00 pm</li>
                                <li> Weekends, 10:00 am to 10:00 pm</li>
                                <li> Stat holidays, 10:00 am to 6:00 pm</li>
                            </ul>
                            <p><strong>Fax:</strong> <a href="tel:250-727-8778">250-721-8778</a></p>			
                            <p><strong>Twitter:</strong> <a href="https://www.twitter.com/uvichelpdesk" class="icoa icoa--twitter">@uvichelpdesk</a></p>
                            <ul>
                                <li>Answered Monday to Friday, 8:00 am to 4:30 pm</li>
                            </ul>
                        </div>
                    </div>
                </div>
                <div class="uv-right"></div>
            </div>
        </div>
            </main>
    <footer id="uv-footer" class="ftr"></footer>
    <script src="https://www.uvic.ca/assets/core-4-0/js/scripts.js" type="text/javascript"></script> 
    <script src="https://www.uvic.ca/global/footer.js.php?vrs=4.0" type="text/javascript"></script>
    <script src="https://www.uvic.ca/global/header.js.php?vrs=4.0" type="text/javascript"></script>
    <script src="https://kit.fontawesome.com/32795de2d2.js" crossorigin="anonymous"></script>
    <script src="/idp/js/additional-methods.min.js" type="text/javascript"></script>
</body>
</html>

